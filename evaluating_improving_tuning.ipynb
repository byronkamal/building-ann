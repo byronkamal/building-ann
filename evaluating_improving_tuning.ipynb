{
 "nbformat": 4,
 "nbformat_minor": 2,
 "metadata": {
  "language_info": {
   "name": "python",
   "codemirror_mode": {
    "name": "ipython",
    "version": 3
   }
  },
  "orig_nbformat": 2,
  "file_extension": ".py",
  "mimetype": "text/x-python",
  "name": "python",
  "npconvert_exporter": "python",
  "pygments_lexer": "ipython3",
  "version": 3
 },
 "cells": [
  {
   "cell_type": "code",
   "execution_count": null,
   "metadata": {},
   "outputs": [],
   "source": [
    "\n",
    "# Artificial Neural Network\n",
    "\n",
    "# Installing Theano\n",
    "# pip install --upgrade --no-deps git+git://github.com/Theano/Theano.git\n",
    "\n",
    "# Installing Tensorflow\n",
    "# pip install tensorflow\n",
    "\n",
    "# Installing Keras\n",
    "# pip install --upgrade keras"
   ]
  },
  {
   "cell_type": "code",
   "execution_count": null,
   "metadata": {},
   "outputs": [],
   "source": [
    "\n",
    "# Part 1 - Data Preprocessing"
   ]
  },
  {
   "cell_type": "code",
   "execution_count": 1,
   "metadata": {},
   "outputs": [],
   "source": [
    "# Importing the libraries\n",
    "import numpy as np\n",
    "import matplotlib.pyplot as plt\n",
    "import pandas as pd"
   ]
  },
  {
   "cell_type": "code",
   "execution_count": 2,
   "metadata": {},
   "outputs": [],
   "source": [
    "# Importing the dataset\n",
    "dataset = pd.read_csv('Churn_Modelling.csv')\n",
    "X = dataset.iloc[:, 3:13].values\n",
    "y = dataset.iloc[:, 13].values\n"
   ]
  },
  {
   "cell_type": "code",
   "execution_count": 3,
   "metadata": {},
   "outputs": [
    {
     "name": "stderr",
     "output_type": "stream",
     "text": "/home/fellipe/anaconda3/lib/python3.7/site-packages/sklearn/preprocessing/_encoders.py:415: FutureWarning: The handling of integer data will change in version 0.22. Currently, the categories are determined based on the range [0, max(values)], while in the future they will be determined based on the unique values.\nIf you want the future behaviour and silence this warning, you can specify \"categories='auto'\".\nIn case you used a LabelEncoder before this OneHotEncoder to convert the categories to integers, then you can now use the OneHotEncoder directly.\n  warnings.warn(msg, FutureWarning)\n/home/fellipe/anaconda3/lib/python3.7/site-packages/sklearn/preprocessing/_encoders.py:451: DeprecationWarning: The 'categorical_features' keyword is deprecated in version 0.20 and will be removed in 0.22. You can use the ColumnTransformer instead.\n  \"use the ColumnTransformer instead.\", DeprecationWarning)\n"
    }
   ],
   "source": [
    "# Encoding categorical data\n",
    "from sklearn.preprocessing import LabelEncoder, OneHotEncoder\n",
    "labelencoder_X_1 = LabelEncoder()\n",
    "X[:, 1] = labelencoder_X_1.fit_transform(X[:, 1])\n",
    "labelencoder_X_2 = LabelEncoder()\n",
    "X[:, 2] = labelencoder_X_2.fit_transform(X[:, 2])\n",
    "onehotencoder = OneHotEncoder(categorical_features = [1])\n",
    "X = onehotencoder.fit_transform(X).toarray()\n",
    "X = X[:, 1:]"
   ]
  },
  {
   "cell_type": "code",
   "execution_count": 4,
   "metadata": {},
   "outputs": [],
   "source": [
    "# Splitting the dataset into the Training set and Test set\n",
    "from sklearn.model_selection import train_test_split\n",
    "X_train, X_test, y_train, y_test = train_test_split(X, y, test_size = 0.2, random_state = 0)"
   ]
  },
  {
   "cell_type": "code",
   "execution_count": 5,
   "metadata": {},
   "outputs": [],
   "source": [
    "# Feature Scaling\n",
    "from sklearn.preprocessing import StandardScaler\n",
    "sc = StandardScaler()\n",
    "X_train = sc.fit_transform(X_train)\n",
    "X_test = sc.transform(X_test)"
   ]
  },
  {
   "cell_type": "code",
   "execution_count": null,
   "metadata": {},
   "outputs": [],
   "source": [
    "# Part 2 - Now let's make the ANN!"
   ]
  },
  {
   "cell_type": "code",
   "execution_count": 6,
   "metadata": {},
   "outputs": [
    {
     "name": "stderr",
     "output_type": "stream",
     "text": "Using TensorFlow backend.\n"
    }
   ],
   "source": [
    "# Importing the Keras libraries and packages\n",
    "import keras\n",
    "from keras.models import Sequential\n",
    "from keras.layers import Dense\n",
    "from keras.layers import Dropout"
   ]
  },
  {
   "cell_type": "code",
   "execution_count": 7,
   "metadata": {},
   "outputs": [],
   "source": [
    "# Initialising the ANN\n",
    "classifier = Sequential()"
   ]
  },
  {
   "cell_type": "code",
   "execution_count": 8,
   "metadata": {},
   "outputs": [
    {
     "name": "stdout",
     "output_type": "stream",
     "text": "WARNING:tensorflow:From /home/fellipe/anaconda3/lib/python3.7/site-packages/tensorflow/python/framework/op_def_library.py:263: colocate_with (from tensorflow.python.framework.ops) is deprecated and will be removed in a future version.\nInstructions for updating:\nColocations handled automatically by placer.\nWARNING:tensorflow:From /home/fellipe/anaconda3/lib/python3.7/site-packages/tensorflow/python/ops/math_ops.py:3066: to_int32 (from tensorflow.python.ops.math_ops) is deprecated and will be removed in a future version.\nInstructions for updating:\nUse tf.cast instead.\nEpoch 1/10\n8000/8000 [==============================] - 1s 101us/step - loss: 0.4777 - acc: 0.7960\nEpoch 2/10\n8000/8000 [==============================] - 1s 85us/step - loss: 0.4232 - acc: 0.7960\nEpoch 3/10\n8000/8000 [==============================] - 1s 90us/step - loss: 0.4195 - acc: 0.8109\nEpoch 4/10\n8000/8000 [==============================] - 1s 82us/step - loss: 0.4172 - acc: 0.8269\nEpoch 5/10\n8000/8000 [==============================] - 1s 83us/step - loss: 0.4148 - acc: 0.8282\nEpoch 6/10\n8000/8000 [==============================] - 1s 86us/step - loss: 0.4129 - acc: 0.8294\nEpoch 7/10\n8000/8000 [==============================] - 1s 98us/step - loss: 0.4114 - acc: 0.8319\nEpoch 8/10\n8000/8000 [==============================] - 1s 155us/step - loss: 0.4100 - acc: 0.8332\nEpoch 9/10\n8000/8000 [==============================] - 1s 124us/step - loss: 0.4083 - acc: 0.8324\nEpoch 10/10\n8000/8000 [==============================] - 1s 109us/step - loss: 0.4050 - acc: 0.8337\n"
    },
    {
     "data": {
      "text/plain": "<keras.callbacks.History at 0x7f695e114750>"
     },
     "execution_count": 8,
     "metadata": {},
     "output_type": "execute_result"
    }
   ],
   "source": [
    "# Adding the input layer and the first hidden layer\n",
    "classifier.add(Dense(units = 6, kernel_initializer = 'uniform', activation = 'relu', input_dim = 11))\n",
    "# classifier.add(Dropout(rate = 0.1))\n",
    "\n",
    "# Adding the second hidden layer\n",
    "classifier.add(Dense(units = 6, kernel_initializer = 'uniform', activation = 'relu'))\n",
    "# classifier.add(Dropout(rate = 0.1))\n",
    "\n",
    "# Adding the output layer\n",
    "classifier.add(Dense(units = 1, kernel_initializer = 'uniform', activation = 'sigmoid'))\n",
    "\n",
    "# Compiling the ANN\n",
    "classifier.compile(optimizer = 'adam', loss = 'binary_crossentropy', metrics = ['accuracy'])\n",
    "\n",
    "# Fitting the ANN to the Training set\n",
    "classifier.fit(X_train, y_train, batch_size = 10, epochs = 10)"
   ]
  },
  {
   "cell_type": "code",
   "execution_count": null,
   "metadata": {},
   "outputs": [],
   "source": [
    "# Part 3 - Making predictions and evaluating the model"
   ]
  },
  {
   "cell_type": "code",
   "execution_count": 9,
   "metadata": {},
   "outputs": [],
   "source": [
    "# Predicting the Test set results\n",
    "y_pred = classifier.predict(X_test)\n",
    "y_pred = (y_pred > 0.5)"
   ]
  },
  {
   "cell_type": "code",
   "execution_count": 10,
   "metadata": {},
   "outputs": [],
   "source": [
    "# Predicting a single new observation\n",
    "\"\"\"Predict if the customer with the following informations will leave the bank:\n",
    "Geography: France\n",
    "Credit Score: 600\n",
    "Gender: Male\n",
    "Age: 40\n",
    "Tenure: 3\n",
    "Balance: 60000\n",
    "Number of Products: 2\n",
    "Has Credit Card: Yes\n",
    "Is Active Member: Yes\n",
    "Estimated Salary: 50000\"\"\"\n",
    "new_prediction = classifier.predict(sc.transform(np.array([[0.0, 0, 600, 1, 40, 3, 60000, 2, 1, 1, 50000]])))\n",
    "new_prediction = (new_prediction > 0.5)"
   ]
  },
  {
   "cell_type": "code",
   "execution_count": 11,
   "metadata": {},
   "outputs": [],
   "source": [
    "# Making the Confusion Matrix\n",
    "from sklearn.metrics import confusion_matrix\n",
    "cm = confusion_matrix(y_test, y_pred)"
   ]
  },
  {
   "cell_type": "code",
   "execution_count": 12,
   "metadata": {},
   "outputs": [
    {
     "name": "stdout",
     "output_type": "stream",
     "text": "[[1550   45]\n [ 267  138]]\n"
    }
   ],
   "source": [
    "print(cm)"
   ]
  },
  {
   "cell_type": "code",
   "execution_count": null,
   "metadata": {},
   "outputs": [],
   "source": [
    "# Part 4 - Evaluating, Improving and Tuning the ANN"
   ]
  },
  {
   "cell_type": "code",
   "execution_count": 13,
   "metadata": {},
   "outputs": [],
   "source": [
    "# Evaluating the ANN\n",
    "from keras.wrappers.scikit_learn import KerasClassifier\n",
    "from sklearn.model_selection import cross_val_score\n",
    "from keras.models import Sequential\n",
    "from keras.layers import Dense\n",
    "#from keras.layers import Dropout\n",
    "def build_classifier():\n",
    "    classifier = Sequential()\n",
    "    classifier.add(Dense(units = 6, kernel_initializer = 'uniform', activation = 'relu', input_dim = 11))\n",
    "    classifier.add(Dropout(rate = 0.1))\n",
    "    classifier.add(Dense(units = 6, kernel_initializer = 'uniform', activation = 'relu'))\n",
    "    classifier.add(Dropout(rate = 0.1))\n",
    "    classifier.add(Dense(units = 1, kernel_initializer = 'uniform', activation = 'sigmoid'))\n",
    "    classifier.compile(optimizer = 'adam', loss = 'binary_crossentropy', metrics = ['accuracy'])\n",
    "    return classifier\n",
    "classifier = KerasClassifier(build_fn = build_classifier, batch_size = 10, epochs = 10)\n",
    "accuracies = cross_val_score(estimator = classifier, X = X_train, y = y_train, cv = 10, n_jobs = -1)\n",
    "mean = accuracies.mean()\n",
    "variance = accuracies.std()"
   ]
  },
  {
   "cell_type": "code",
   "execution_count": 14,
   "metadata": {},
   "outputs": [
    {
     "name": "stdout",
     "output_type": "stream",
     "text": "[0.78625    0.79       0.82375    0.81875    0.84874999 0.82625\n 0.82249999 0.81249999 0.81875    0.845     ]\n0.8192499963939192\n0.01898354417489961\n"
    }
   ],
   "source": [
    "print(accuracies)\n",
    "print(mean)\n",
    "print(variance)"
   ]
  },
  {
   "cell_type": "code",
   "execution_count": null,
   "metadata": {},
   "outputs": [],
   "source": [
    "# Improving the ANN\n",
    "# Dropout Regularization to reduce overfitting if needed"
   ]
  },
  {
   "cell_type": "code",
   "execution_count": 15,
   "metadata": {},
   "outputs": [],
   "source": [
    "# Tuning the ANN\n",
    "from keras.wrappers.scikit_learn import KerasClassifier\n",
    "from sklearn.model_selection import GridSearchCV\n",
    "from keras.models import Sequential\n",
    "from keras.layers import Dense"
   ]
  },
  {
   "cell_type": "code",
   "execution_count": 16,
   "metadata": {},
   "outputs": [],
   "source": [
    "\n",
    "def build_classifier(optimizer):\n",
    "    classifier = Sequential()\n",
    "    classifier.add(Dense(units = 6, kernel_initializer = 'uniform', activation = 'relu', input_dim = 11))\n",
    "    classifier.add(Dropout(rate = 0.1))\n",
    "    classifier.add(Dense(units = 6, kernel_initializer = 'uniform', activation = 'relu'))\n",
    "    classifier.add(Dropout(rate = 0.1))\n",
    "    classifier.add(Dense(units = 1, kernel_initializer = 'uniform', activation = 'sigmoid'))\n",
    "    classifier.compile(optimizer = optimizer, loss = 'binary_crossentropy', metrics = ['accuracy'])\n",
    "    return classifier"
   ]
  },
  {
   "cell_type": "code",
   "execution_count": 17,
   "metadata": {},
   "outputs": [],
   "source": [
    "classifier = KerasClassifier(build_fn = build_classifier)"
   ]
  },
  {
   "cell_type": "code",
   "execution_count": 18,
   "metadata": {},
   "outputs": [],
   "source": [
    "parameters = {'batch_size': [5, 10],\n",
    "              'epochs': [5, 10],\n",
    "              'optimizer': ['adam', 'rmsprop']}"
   ]
  },
  {
   "cell_type": "code",
   "execution_count": 19,
   "metadata": {},
   "outputs": [],
   "source": [
    "\n",
    "grid_search = GridSearchCV(estimator = classifier,\n",
    "                           scoring = 'accuracy',\n",
    "                           param_grid = parameters,\n",
    "                           cv = 10)"
   ]
  },
  {
   "cell_type": "code",
   "execution_count": 20,
   "metadata": {},
   "outputs": [
    {
     "name": "stdout",
     "output_type": "stream",
     "text": "Epoch 9/10\n7200/7200 [==============================] - 2s 304us/step - loss: 0.4370 - acc: 0.7971\nEpoch 10/10\n7200/7200 [==============================] - 2s 300us/step - loss: 0.4323 - acc: 0.7971\nEpoch 1/10\n7200/7200 [==============================] - 6s 886us/step - loss: 0.5034 - acc: 0.7964\nEpoch 2/10\n7200/7200 [==============================] - 2s 247us/step - loss: 0.4362 - acc: 0.7967\nEpoch 3/10\n7200/7200 [==============================] - 2s 272us/step - loss: 0.4333 - acc: 0.7967\nEpoch 4/10\n7200/7200 [==============================] - 2s 256us/step - loss: 0.4280 - acc: 0.7967\nEpoch 5/10\n7200/7200 [==============================] - 2s 242us/step - loss: 0.4249 - acc: 0.7967\nEpoch 6/10\n7200/7200 [==============================] - 2s 251us/step - loss: 0.4291 - acc: 0.7967\nEpoch 7/10\n7200/7200 [==============================] - 2s 250us/step - loss: 0.4264 - acc: 0.8067\nEpoch 8/10\n7200/7200 [==============================] - 2s 243us/step - loss: 0.4273 - acc: 0.8218\nEpoch 9/10\n7200/7200 [==============================] - 2s 250us/step - loss: 0.4255 - acc: 0.8214\nEpoch 10/10\n7200/7200 [==============================] - 2s 334us/step - loss: 0.4246 - acc: 0.8257\nEpoch 1/10\n7200/7200 [==============================] - 7s 926us/step - loss: 0.4967 - acc: 0.7949\nEpoch 2/10\n7200/7200 [==============================] - 2s 263us/step - loss: 0.4357 - acc: 0.7956\nEpoch 3/10\n7200/7200 [==============================] - 2s 250us/step - loss: 0.4328 - acc: 0.7956\nEpoch 4/10\n7200/7200 [==============================] - 2s 255us/step - loss: 0.4291 - acc: 0.7956\nEpoch 5/10\n7200/7200 [==============================] - 2s 233us/step - loss: 0.4283 - acc: 0.7958\nEpoch 6/10\n7200/7200 [==============================] - 2s 302us/step - loss: 0.4248 - acc: 0.8215\nEpoch 7/10\n7200/7200 [==============================] - 2s 286us/step - loss: 0.4264 - acc: 0.8231\nEpoch 8/10\n7200/7200 [==============================] - 2s 319us/step - loss: 0.4271 - acc: 0.8274\nEpoch 9/10\n7200/7200 [==============================] - 2s 279us/step - loss: 0.4243 - acc: 0.8257\nEpoch 10/10\n7200/7200 [==============================] - 2s 276us/step - loss: 0.4264 - acc: 0.8262\nEpoch 1/10\n7200/7200 [==============================] - 6s 896us/step - loss: 0.5051 - acc: 0.7969\nEpoch 2/10\n7200/7200 [==============================] - 2s 240us/step - loss: 0.4383 - acc: 0.7975\nEpoch 3/10\n7200/7200 [==============================] - 2s 265us/step - loss: 0.4323 - acc: 0.7975\nEpoch 4/10\n7200/7200 [==============================] - 3s 353us/step - loss: 0.4327 - acc: 0.7975\nEpoch 5/10\n7200/7200 [==============================] - 2s 279us/step - loss: 0.4308 - acc: 0.7975\nEpoch 6/10\n7200/7200 [==============================] - 2s 322us/step - loss: 0.4274 - acc: 0.7975\nEpoch 7/10\n7200/7200 [==============================] - 2s 279us/step - loss: 0.4292 - acc: 0.7975\nEpoch 8/10\n7200/7200 [==============================] - 2s 326us/step - loss: 0.4281 - acc: 0.7975\nEpoch 9/10\n7200/7200 [==============================] - 2s 240us/step - loss: 0.4247 - acc: 0.8103\nEpoch 10/10\n7200/7200 [==============================] - 2s 251us/step - loss: 0.4289 - acc: 0.8228\nEpoch 1/10\n7200/7200 [==============================] - 7s 949us/step - loss: 0.5580 - acc: 0.7929\nEpoch 2/10\n7200/7200 [==============================] - 2s 273us/step - loss: 0.4544 - acc: 0.7937\nEpoch 3/10\n7200/7200 [==============================] - 3s 373us/step - loss: 0.4497 - acc: 0.7978\nEpoch 4/10\n7200/7200 [==============================] - 2s 252us/step - loss: 0.4341 - acc: 0.8093\nEpoch 5/10\n7200/7200 [==============================] - 2s 249us/step - loss: 0.4263 - acc: 0.8103\nEpoch 6/10\n7200/7200 [==============================] - 2s 237us/step - loss: 0.4217 - acc: 0.8128\nEpoch 7/10\n7200/7200 [==============================] - 2s 252us/step - loss: 0.4182 - acc: 0.8128\nEpoch 8/10\n7200/7200 [==============================] - 2s 253us/step - loss: 0.4182 - acc: 0.8131\nEpoch 9/10\n7200/7200 [==============================] - 2s 267us/step - loss: 0.4156 - acc: 0.8139\nEpoch 10/10\n7200/7200 [==============================] - 2s 307us/step - loss: 0.4113 - acc: 0.8151\nEpoch 1/10\n7200/7200 [==============================] - 7s 957us/step - loss: 0.4992 - acc: 0.7943\nEpoch 2/10\n7200/7200 [==============================] - 2s 247us/step - loss: 0.4403 - acc: 0.7944\nEpoch 3/10\n7200/7200 [==============================] - 2s 251us/step - loss: 0.4362 - acc: 0.7944\nEpoch 4/10\n7200/7200 [==============================] - 2s 238us/step - loss: 0.4345 - acc: 0.7944\nEpoch 5/10\n7200/7200 [==============================] - 2s 267us/step - loss: 0.4328 - acc: 0.7944\nEpoch 6/10\n7200/7200 [==============================] - 2s 347us/step - loss: 0.4307 - acc: 0.7944\nEpoch 7/10\n7200/7200 [==============================] - 2s 279us/step - loss: 0.4301 - acc: 0.7944\nEpoch 8/10\n7200/7200 [==============================] - 2s 276us/step - loss: 0.4277 - acc: 0.8044\nEpoch 9/10\n7200/7200 [==============================] - 2s 343us/step - loss: 0.4272 - acc: 0.8204\nEpoch 10/10\n7200/7200 [==============================] - 2s 300us/step - loss: 0.4267 - acc: 0.8242\nEpoch 1/10\n7200/7200 [==============================] - 7s 978us/step - loss: 0.5013 - acc: 0.7960\nEpoch 2/10\n7200/7200 [==============================] - 2s 336us/step - loss: 0.4267 - acc: 0.8075\nEpoch 3/10\n7200/7200 [==============================] - 2s 274us/step - loss: 0.4165 - acc: 0.8207\nEpoch 4/10\n7200/7200 [==============================] - 2s 289us/step - loss: 0.4134 - acc: 0.8199\nEpoch 5/10\n7200/7200 [==============================] - 2s 312us/step - loss: 0.4112 - acc: 0.8194\nEpoch 6/10\n7200/7200 [==============================] - 2s 336us/step - loss: 0.4112 - acc: 0.8201\nEpoch 7/10\n7200/7200 [==============================] - 2s 282us/step - loss: 0.4081 - acc: 0.8196\nEpoch 8/10\n7200/7200 [==============================] - 2s 250us/step - loss: 0.4070 - acc: 0.8204\nEpoch 9/10\n7200/7200 [==============================] - 2s 340us/step - loss: 0.4027 - acc: 0.8199\nEpoch 10/10\n7200/7200 [==============================] - 2s 283us/step - loss: 0.4082 - acc: 0.8193\nEpoch 1/10\n7200/7200 [==============================] - 7s 998us/step - loss: 0.4943 - acc: 0.7958\nEpoch 2/10\n7200/7200 [==============================] - 2s 287us/step - loss: 0.4292 - acc: 0.7962\nEpoch 3/10\n7200/7200 [==============================] - 2s 266us/step - loss: 0.4293 - acc: 0.7962\nEpoch 4/10\n7200/7200 [==============================] - 2s 267us/step - loss: 0.4270 - acc: 0.7962\nEpoch 5/10\n7200/7200 [==============================] - 2s 252us/step - loss: 0.4239 - acc: 0.8165\nEpoch 6/10\n7200/7200 [==============================] - 2s 264us/step - loss: 0.4290 - acc: 0.8215\nEpoch 7/10\n7200/7200 [==============================] - 2s 274us/step - loss: 0.4248 - acc: 0.8269\nEpoch 8/10\n7200/7200 [==============================] - 2s 330us/step - loss: 0.4256 - acc: 0.8269\nEpoch 9/10\n7200/7200 [==============================] - 2s 308us/step - loss: 0.4275 - acc: 0.8278\nEpoch 10/10\n7200/7200 [==============================] - 2s 292us/step - loss: 0.4226 - acc: 0.8285\nEpoch 1/10\n7200/7200 [==============================] - 7s 958us/step - loss: 0.5182 - acc: 0.7950\nEpoch 2/10\n7200/7200 [==============================] - 2s 281us/step - loss: 0.4403 - acc: 0.7957\nEpoch 3/10\n7200/7200 [==============================] - 2s 332us/step - loss: 0.4371 - acc: 0.7957\nEpoch 4/10\n7200/7200 [==============================] - 2s 323us/step - loss: 0.4335 - acc: 0.7957\nEpoch 5/10\n7200/7200 [==============================] - 2s 278us/step - loss: 0.4317 - acc: 0.7957\nEpoch 6/10\n7200/7200 [==============================] - 3s 405us/step - loss: 0.4321 - acc: 0.7957\nEpoch 7/10\n7200/7200 [==============================] - 2s 315us/step - loss: 0.4328 - acc: 0.7957\nEpoch 8/10\n7200/7200 [==============================] - 2s 326us/step - loss: 0.4270 - acc: 0.7957\nEpoch 9/10\n7200/7200 [==============================] - 2s 268us/step - loss: 0.4294 - acc: 0.7957\nEpoch 10/10\n7200/7200 [==============================] - 2s 327us/step - loss: 0.4326 - acc: 0.7957\nEpoch 1/10\n7200/7200 [==============================] - 7s 1ms/step - loss: 0.4996 - acc: 0.7954\nEpoch 2/10\n7200/7200 [==============================] - 3s 367us/step - loss: 0.4383 - acc: 0.7961\nEpoch 3/10\n7200/7200 [==============================] - 2s 271us/step - loss: 0.4336 - acc: 0.7961\nEpoch 4/10\n7200/7200 [==============================] - 2s 263us/step - loss: 0.4332 - acc: 0.7961\nEpoch 5/10\n7200/7200 [==============================] - 2s 280us/step - loss: 0.4310 - acc: 0.7961\nEpoch 6/10\n7200/7200 [==============================] - 2s 262us/step - loss: 0.4343 - acc: 0.7961\nEpoch 7/10\n7200/7200 [==============================] - 3s 370us/step - loss: 0.4320 - acc: 0.7961\nEpoch 8/10\n7200/7200 [==============================] - 2s 306us/step - loss: 0.4317 - acc: 0.7961\nEpoch 9/10\n7200/7200 [==============================] - 3s 354us/step - loss: 0.4274 - acc: 0.8008\nEpoch 10/10\n7200/7200 [==============================] - 2s 299us/step - loss: 0.4320 - acc: 0.8083\nEpoch 1/10\n7200/7200 [==============================] - 7s 960us/step - loss: 0.5445 - acc: 0.7968\nEpoch 2/10\n7200/7200 [==============================] - 2s 275us/step - loss: 0.4467 - acc: 0.7971\nEpoch 3/10\n7200/7200 [==============================] - 2s 259us/step - loss: 0.4425 - acc: 0.7971\nEpoch 4/10\n7200/7200 [==============================] - 2s 299us/step - loss: 0.4412 - acc: 0.7971\nEpoch 5/10\n7200/7200 [==============================] - 2s 271us/step - loss: 0.4378 - acc: 0.7971\nEpoch 6/10\n7200/7200 [==============================] - 2s 306us/step - loss: 0.4346 - acc: 0.7971\nEpoch 7/10\n7200/7200 [==============================] - 2s 314us/step - loss: 0.4334 - acc: 0.7971\nEpoch 8/10\n7200/7200 [==============================] - 2s 279us/step - loss: 0.4342 - acc: 0.7971\nEpoch 9/10\n7200/7200 [==============================] - 2s 263us/step - loss: 0.4311 - acc: 0.7971\nEpoch 10/10\n7200/7200 [==============================] - 2s 332us/step - loss: 0.4313 - acc: 0.7971\nEpoch 1/10\n7200/7200 [==============================] - 8s 1ms/step - loss: 0.5183 - acc: 0.7965\nEpoch 2/10\n7200/7200 [==============================] - 2s 280us/step - loss: 0.4409 - acc: 0.7967\nEpoch 3/10\n7200/7200 [==============================] - 3s 381us/step - loss: 0.4355 - acc: 0.7967\nEpoch 4/10\n7200/7200 [==============================] - 2s 300us/step - loss: 0.4344 - acc: 0.7967\nEpoch 5/10\n7200/7200 [==============================] - 2s 313us/step - loss: 0.4300 - acc: 0.7967\nEpoch 6/10\n7200/7200 [==============================] - 2s 260us/step - loss: 0.4266 - acc: 0.7967\nEpoch 7/10\n7200/7200 [==============================] - 2s 277us/step - loss: 0.4317 - acc: 0.8019\nEpoch 8/10\n7200/7200 [==============================] - 2s 262us/step - loss: 0.4281 - acc: 0.8224\nEpoch 9/10\n7200/7200 [==============================] - 2s 285us/step - loss: 0.4321 - acc: 0.8247\nEpoch 10/10\n7200/7200 [==============================] - 2s 311us/step - loss: 0.4257 - acc: 0.8253\nEpoch 1/10\n7200/7200 [==============================] - 8s 1ms/step - loss: 0.5131 - acc: 0.7949\nEpoch 2/10\n7200/7200 [==============================] - 2s 295us/step - loss: 0.4436 - acc: 0.7956\nEpoch 3/10\n7200/7200 [==============================] - 2s 258us/step - loss: 0.4379 - acc: 0.7956\nEpoch 4/10\n7200/7200 [==============================] - 2s 286us/step - loss: 0.4360 - acc: 0.7956\nEpoch 5/10\n7200/7200 [==============================] - 2s 273us/step - loss: 0.4336 - acc: 0.7956\nEpoch 6/10\n7200/7200 [==============================] - 2s 306us/step - loss: 0.4317 - acc: 0.7956\nEpoch 7/10\n7200/7200 [==============================] - 2s 316us/step - loss: 0.4288 - acc: 0.7997\nEpoch 8/10\n7200/7200 [==============================] - 3s 365us/step - loss: 0.4319 - acc: 0.8201\nEpoch 9/10\n7200/7200 [==============================] - 2s 272us/step - loss: 0.4300 - acc: 0.8222\nEpoch 10/10\n7200/7200 [==============================] - 2s 269us/step - loss: 0.4315 - acc: 0.8232\nEpoch 1/10\n7200/7200 [==============================] - 8s 1ms/step - loss: 0.5021 - acc: 0.7975\nEpoch 2/10\n7200/7200 [==============================] - 3s 383us/step - loss: 0.4362 - acc: 0.7975\nEpoch 3/10\n7200/7200 [==============================] - 2s 274us/step - loss: 0.4285 - acc: 0.7975\nEpoch 4/10\n7200/7200 [==============================] - 2s 327us/step - loss: 0.4285 - acc: 0.7975\nEpoch 5/10\n7200/7200 [==============================] - 2s 299us/step - loss: 0.4264 - acc: 0.8071\nEpoch 6/10\n7200/7200 [==============================] - 2s 270us/step - loss: 0.4225 - acc: 0.8225\nEpoch 7/10\n7200/7200 [==============================] - 2s 338us/step - loss: 0.4231 - acc: 0.8267\nEpoch 8/10\n7200/7200 [==============================] - 2s 322us/step - loss: 0.4245 - acc: 0.8290\nEpoch 9/10\n7200/7200 [==============================] - 3s 349us/step - loss: 0.4257 - acc: 0.8303\nEpoch 10/10\n7200/7200 [==============================] - 1s 177us/step - loss: 0.4203 - acc: 0.8322\nEpoch 1/10\n7200/7200 [==============================] - 6s 867us/step - loss: 0.5555 - acc: 0.7929\nEpoch 2/10\n7200/7200 [==============================] - 3s 377us/step - loss: 0.4500 - acc: 0.8014\nEpoch 3/10\n7200/7200 [==============================] - 2s 275us/step - loss: 0.4382 - acc: 0.8162\nEpoch 4/10\n7200/7200 [==============================] - 2s 323us/step - loss: 0.4329 - acc: 0.8201\nEpoch 5/10\n7200/7200 [==============================] - 2s 341us/step - loss: 0.4246 - acc: 0.8237\nEpoch 6/10\n7200/7200 [==============================] - 2s 340us/step - loss: 0.4237 - acc: 0.8194\nEpoch 7/10\n7200/7200 [==============================] - 2s 306us/step - loss: 0.4196 - acc: 0.8236\nEpoch 8/10\n7200/7200 [==============================] - 2s 230us/step - loss: 0.4185 - acc: 0.8244\nEpoch 9/10\n7200/7200 [==============================] - 2s 305us/step - loss: 0.4174 - acc: 0.8226\nEpoch 10/10\n7200/7200 [==============================] - 2s 293us/step - loss: 0.4121 - acc: 0.8214\nEpoch 1/10\n7200/7200 [==============================] - 8s 1ms/step - loss: 0.5187 - acc: 0.7937\nEpoch 2/10\n7200/7200 [==============================] - 2s 282us/step - loss: 0.4341 - acc: 0.7946\nEpoch 3/10\n7200/7200 [==============================] - 2s 336us/step - loss: 0.4251 - acc: 0.8146\nEpoch 4/10\n7200/7200 [==============================] - 2s 331us/step - loss: 0.4188 - acc: 0.8203\nEpoch 5/10\n7200/7200 [==============================] - 3s 358us/step - loss: 0.4134 - acc: 0.8236\nEpoch 6/10\n7200/7200 [==============================] - 2s 281us/step - loss: 0.4078 - acc: 0.8239\nEpoch 7/10\n7200/7200 [==============================] - 2s 271us/step - loss: 0.4042 - acc: 0.8264\nEpoch 8/10\n7200/7200 [==============================] - 3s 378us/step - loss: 0.4060 - acc: 0.8285\nEpoch 9/10\n7200/7200 [==============================] - 2s 252us/step - loss: 0.3980 - acc: 0.8306\nEpoch 10/10\n7200/7200 [==============================] - 2s 300us/step - loss: 0.4037 - acc: 0.8296\nEpoch 1/10\n7200/7200 [==============================] - 8s 1ms/step - loss: 0.5117 - acc: 0.7962\nEpoch 2/10\n7200/7200 [==============================] - 2s 264us/step - loss: 0.4342 - acc: 0.7969\nEpoch 3/10\n7200/7200 [==============================] - 2s 279us/step - loss: 0.4288 - acc: 0.8014\nEpoch 4/10\n7200/7200 [==============================] - 2s 281us/step - loss: 0.4235 - acc: 0.8194\nEpoch 5/10\n7200/7200 [==============================] - 2s 293us/step - loss: 0.4156 - acc: 0.8194\nEpoch 6/10\n7200/7200 [==============================] - 3s 419us/step - loss: 0.4099 - acc: 0.8219\nEpoch 7/10\n7200/7200 [==============================] - 2s 310us/step - loss: 0.4082 - acc: 0.8253\nEpoch 8/10\n7200/7200 [==============================] - 2s 297us/step - loss: 0.4046 - acc: 0.8222\nEpoch 9/10\n7200/7200 [==============================] - 3s 356us/step - loss: 0.4066 - acc: 0.8214\nEpoch 10/10\n7200/7200 [==============================] - 2s 281us/step - loss: 0.4038 - acc: 0.8201\nEpoch 1/10\n7200/7200 [==============================] - 8s 1ms/step - loss: 0.5015 - acc: 0.7954\nEpoch 2/10\n7200/7200 [==============================] - 2s 320us/step - loss: 0.4371 - acc: 0.7962\nEpoch 3/10\n7200/7200 [==============================] - 2s 297us/step - loss: 0.4351 - acc: 0.7962\nEpoch 4/10\n7200/7200 [==============================] - 2s 312us/step - loss: 0.4346 - acc: 0.7962\nEpoch 5/10\n7200/7200 [==============================] - 2s 290us/step - loss: 0.4307 - acc: 0.7962\nEpoch 6/10\n7200/7200 [==============================] - 2s 291us/step - loss: 0.4302 - acc: 0.7962\nEpoch 7/10\n7200/7200 [==============================] - 2s 278us/step - loss: 0.4307 - acc: 0.7962\nEpoch 8/10\n7200/7200 [==============================] - 2s 281us/step - loss: 0.4247 - acc: 0.8112\nEpoch 9/10\n7200/7200 [==============================] - 2s 307us/step - loss: 0.4262 - acc: 0.8254\nEpoch 10/10\n7200/7200 [==============================] - 2s 345us/step - loss: 0.4244 - acc: 0.8215\nEpoch 1/10\n7200/7200 [==============================] - 8s 1ms/step - loss: 0.5132 - acc: 0.7954\nEpoch 2/10\n7200/7200 [==============================] - 2s 289us/step - loss: 0.4359 - acc: 0.7957\nEpoch 3/10\n7200/7200 [==============================] - 3s 366us/step - loss: 0.4324 - acc: 0.7957\nEpoch 4/10\n7200/7200 [==============================] - 2s 304us/step - loss: 0.4316 - acc: 0.7957\nEpoch 5/10\n7200/7200 [==============================] - 3s 381us/step - loss: 0.4268 - acc: 0.7957\nEpoch 6/10\n7200/7200 [==============================] - 2s 323us/step - loss: 0.4241 - acc: 0.8186\nEpoch 7/10\n7200/7200 [==============================] - 3s 398us/step - loss: 0.4240 - acc: 0.8272\nEpoch 8/10\n7200/7200 [==============================] - 2s 342us/step - loss: 0.4251 - acc: 0.8274\nEpoch 9/10\n7200/7200 [==============================] - 2s 324us/step - loss: 0.4225 - acc: 0.8317\nEpoch 10/10\n7200/7200 [==============================] - 2s 279us/step - loss: 0.4222 - acc: 0.8346\nEpoch 1/10\n7200/7200 [==============================] - 8s 1ms/step - loss: 0.5273 - acc: 0.7956\nEpoch 2/10\n7200/7200 [==============================] - 2s 322us/step - loss: 0.4441 - acc: 0.7961\nEpoch 3/10\n7200/7200 [==============================] - 2s 297us/step - loss: 0.4372 - acc: 0.7961\nEpoch 4/10\n7200/7200 [==============================] - 3s 395us/step - loss: 0.4344 - acc: 0.7961\nEpoch 5/10\n7200/7200 [==============================] - 2s 306us/step - loss: 0.4298 - acc: 0.7961\nEpoch 6/10\n7200/7200 [==============================] - 2s 285us/step - loss: 0.4304 - acc: 0.7961\nEpoch 7/10\n7200/7200 [==============================] - 2s 305us/step - loss: 0.4332 - acc: 0.7961\nEpoch 8/10\n7200/7200 [==============================] - 2s 277us/step - loss: 0.4296 - acc: 0.8081\nEpoch 9/10\n7200/7200 [==============================] - 2s 309us/step - loss: 0.4299 - acc: 0.8211\nEpoch 10/10\n7200/7200 [==============================] - 2s 298us/step - loss: 0.4297 - acc: 0.8222\nEpoch 1/10\n8000/8000 [==============================] - 10s 1ms/step - loss: 0.4884 - acc: 0.7955\nEpoch 2/10\n8000/8000 [==============================] - 5s 637us/step - loss: 0.4428 - acc: 0.7960\nEpoch 3/10\n8000/8000 [==============================] - 5s 628us/step - loss: 0.4422 - acc: 0.7960\nEpoch 4/10\n8000/8000 [==============================] - 5s 618us/step - loss: 0.4419 - acc: 0.7960\nEpoch 5/10\n8000/8000 [==============================] - 5s 664us/step - loss: 0.4395 - acc: 0.7960\nEpoch 6/10\n8000/8000 [==============================] - 5s 650us/step - loss: 0.4395 - acc: 0.7960\nEpoch 7/10\n8000/8000 [==============================] - 5s 642us/step - loss: 0.4347 - acc: 0.7960\nEpoch 8/10\n8000/8000 [==============================] - 5s 659us/step - loss: 0.4375 - acc: 0.8009\nEpoch 9/10\n8000/8000 [==============================] - 6s 734us/step - loss: 0.4347 - acc: 0.8160\nEpoch 10/10\n8000/8000 [==============================] - 5s 614us/step - loss: 0.4374 - acc: 0.8201\n"
    }
   ],
   "source": [
    "grid_search = grid_search.fit(X_train, y_train)"
   ]
  },
  {
   "cell_type": "code",
   "execution_count": 21,
   "metadata": {},
   "outputs": [],
   "source": [
    "\n",
    "best_parameters = grid_search.best_params_"
   ]
  },
  {
   "cell_type": "code",
   "execution_count": 22,
   "metadata": {},
   "outputs": [],
   "source": [
    "\n",
    "best_accuracy = grid_search.best_score_"
   ]
  },
  {
   "cell_type": "code",
   "execution_count": 23,
   "metadata": {},
   "outputs": [
    {
     "name": "stdout",
     "output_type": "stream",
     "text": "{'batch_size': 5, 'epochs': 10, 'optimizer': 'rmsprop'}\n"
    }
   ],
   "source": [
    "\n",
    "print(best_parameters)"
   ]
  },
  {
   "cell_type": "code",
   "execution_count": 24,
   "metadata": {},
   "outputs": [
    {
     "name": "stdout",
     "output_type": "stream",
     "text": "0.832375\n"
    }
   ],
   "source": [
    "print(best_accuracy)"
   ]
  },
  {
   "cell_type": "code",
   "execution_count": null,
   "metadata": {},
   "outputs": [],
   "source": []
  }
 ]
}