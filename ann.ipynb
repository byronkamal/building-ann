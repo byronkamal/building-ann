{
 "nbformat": 4,
 "nbformat_minor": 2,
 "metadata": {
  "language_info": {
   "name": "python",
   "codemirror_mode": {
    "name": "ipython",
    "version": 3
   }
  },
  "orig_nbformat": 2,
  "file_extension": ".py",
  "mimetype": "text/x-python",
  "name": "python",
  "npconvert_exporter": "python",
  "pygments_lexer": "ipython3",
  "version": 3
 },
 "cells": [
  {
   "cell_type": "code",
   "execution_count": 1,
   "metadata": {},
   "outputs": [
    {
     "name": "stdout",
     "output_type": "stream",
     "text": "Collecting tensorflow==1.13.1 (from -r requirements.txt (line 1))\n\u001b[?25l  Downloading https://files.pythonhosted.org/packages/d4/29/6b4f1e02417c3a1ccc85380f093556ffd0b35dc354078074c5195c8447f2/tensorflow-1.13.1-cp37-cp37m-manylinux1_x86_64.whl (92.6MB)\n\u001b[K     |████████████████████████████████| 92.6MB 474kB/s \n\u001b[?25hCollecting numpy==1.16.2 (from -r requirements.txt (line 2))\n\u001b[?25l  Downloading https://files.pythonhosted.org/packages/91/e7/6c780e612d245cca62bc3ba8e263038f7c144a96a54f877f3714a0e8427e/numpy-1.16.2-cp37-cp37m-manylinux1_x86_64.whl (17.3MB)\n\u001b[K     |████████████████████████████████| 17.3MB 20.0MB/s \n\u001b[?25hCollecting pandas==0.24.2 (from -r requirements.txt (line 3))\n\u001b[?25l  Downloading https://files.pythonhosted.org/packages/22/e6/2d47835f91eb010036be207581fa113fb4e3822ec1b4bafb0d3d105fede6/pandas-0.24.2-cp37-cp37m-manylinux1_x86_64.whl (10.1MB)\n\u001b[K     |████████████████████████████████| 10.1MB 4.0MB/s \n\u001b[?25hCollecting matplotlib==3.0.3 (from -r requirements.txt (line 4))\n\u001b[?25l  Downloading https://files.pythonhosted.org/packages/83/2a/e47bbd9396af32376863a426baed62d9bf3091f81defd1fe81c5f33b11a3/matplotlib-3.0.3-cp37-cp37m-manylinux1_x86_64.whl (13.0MB)\n\u001b[K     |████████████████████████████████| 13.0MB 14.3MB/s \n\u001b[?25hCollecting Keras==2.2.4 (from -r requirements.txt (line 5))\n\u001b[?25l  Downloading https://files.pythonhosted.org/packages/5e/10/aa32dad071ce52b5502266b5c659451cfd6ffcbf14e6c8c4f16c0ff5aaab/Keras-2.2.4-py2.py3-none-any.whl (312kB)\n\u001b[K     |████████████████████████████████| 317kB 10.1MB/s \n\u001b[?25hCollecting sklearn==0.0 (from -r requirements.txt (line 6))\n  Downloading https://files.pythonhosted.org/packages/1e/7a/dbb3be0ce9bd5c8b7e3d87328e79063f8b263b2b1bfa4774cb1147bfcd3f/sklearn-0.0.tar.gz\nCollecting tensorboard<1.14.0,>=1.13.0 (from tensorflow==1.13.1->-r requirements.txt (line 1))\n\u001b[?25l  Downloading https://files.pythonhosted.org/packages/0f/39/bdd75b08a6fba41f098b6cb091b9e8c7a80e1b4d679a581a0ccd17b10373/tensorboard-1.13.1-py3-none-any.whl (3.2MB)\n\u001b[K     |████████████████████████████████| 3.2MB 8.7MB/s \n\u001b[?25hCollecting tensorflow-estimator<1.14.0rc0,>=1.13.0 (from tensorflow==1.13.1->-r requirements.txt (line 1))\n\u001b[?25l  Downloading https://files.pythonhosted.org/packages/bb/48/13f49fc3fa0fdf916aa1419013bb8f2ad09674c275b4046d5ee669a46873/tensorflow_estimator-1.13.0-py2.py3-none-any.whl (367kB)\n\u001b[K     |████████████████████████████████| 368kB 11.0MB/s \n\u001b[?25hCollecting keras-preprocessing>=1.0.5 (from tensorflow==1.13.1->-r requirements.txt (line 1))\n\u001b[?25l  Downloading https://files.pythonhosted.org/packages/28/6a/8c1f62c37212d9fc441a7e26736df51ce6f0e38455816445471f10da4f0a/Keras_Preprocessing-1.1.0-py2.py3-none-any.whl (41kB)\n\u001b[K     |████████████████████████████████| 51kB 8.3MB/s \n\u001b[?25hCollecting astor>=0.6.0 (from tensorflow==1.13.1->-r requirements.txt (line 1))\n  Downloading https://files.pythonhosted.org/packages/d1/4f/950dfae467b384fc96bc6469de25d832534f6b4441033c39f914efd13418/astor-0.8.0-py2.py3-none-any.whl\nCollecting keras-applications>=1.0.6 (from tensorflow==1.13.1->-r requirements.txt (line 1))\n\u001b[?25l  Downloading https://files.pythonhosted.org/packages/71/e3/19762fdfc62877ae9102edf6342d71b28fbfd9dea3d2f96a882ce099b03f/Keras_Applications-1.0.8-py3-none-any.whl (50kB)\n\u001b[K     |████████████████████████████████| 51kB 3.4MB/s \n\u001b[?25hCollecting gast>=0.2.0 (from tensorflow==1.13.1->-r requirements.txt (line 1))\n  Downloading https://files.pythonhosted.org/packages/1f/04/4e36c33f8eb5c5b6c622a1f4859352a6acca7ab387257d4b3c191d23ec1d/gast-0.3.2.tar.gz\nRequirement already satisfied: six>=1.10.0 in /home/fellipe/anaconda3/lib/python3.7/site-packages (from tensorflow==1.13.1->-r requirements.txt (line 1)) (1.12.0)\nRequirement already satisfied: wheel>=0.26 in /home/fellipe/anaconda3/lib/python3.7/site-packages (from tensorflow==1.13.1->-r requirements.txt (line 1)) (0.33.6)\nCollecting absl-py>=0.1.6 (from tensorflow==1.13.1->-r requirements.txt (line 1))\n\u001b[?25l  Downloading https://files.pythonhosted.org/packages/3b/72/e6e483e2db953c11efa44ee21c5fdb6505c4dffa447b4263ca8af6676b62/absl-py-0.8.1.tar.gz (103kB)\n\u001b[K     |████████████████████████████████| 112kB 20.1MB/s \n\u001b[?25hCollecting protobuf>=3.6.1 (from tensorflow==1.13.1->-r requirements.txt (line 1))\n\u001b[?25l  Downloading https://files.pythonhosted.org/packages/d7/34/02a2083afc14adff644a1e29783f276f12f1f914ca4cab157d73bb3d2fed/protobuf-3.10.0-cp37-cp37m-manylinux1_x86_64.whl (1.3MB)\n\u001b[K     |████████████████████████████████| 1.3MB 8.8MB/s \n\u001b[?25hCollecting termcolor>=1.1.0 (from tensorflow==1.13.1->-r requirements.txt (line 1))\n  Downloading https://files.pythonhosted.org/packages/8a/48/a76be51647d0eb9f10e2a4511bf3ffb8cc1e6b14e9e4fab46173aa79f981/termcolor-1.1.0.tar.gz\nCollecting grpcio>=1.8.6 (from tensorflow==1.13.1->-r requirements.txt (line 1))\n\u001b[?25l  Downloading https://files.pythonhosted.org/packages/b5/68/070ee7609b452e950bd5af35f7161f0ceb0abd61cf16ff3b23c852d4594b/grpcio-1.25.0-cp37-cp37m-manylinux2010_x86_64.whl (2.4MB)\n\u001b[K     |████████████████████████████████| 2.4MB 18.2MB/s \n\u001b[?25hRequirement already satisfied: python-dateutil>=2.5.0 in /home/fellipe/anaconda3/lib/python3.7/site-packages (from pandas==0.24.2->-r requirements.txt (line 3)) (2.8.0)\nRequirement already satisfied: pytz>=2011k in /home/fellipe/anaconda3/lib/python3.7/site-packages (from pandas==0.24.2->-r requirements.txt (line 3)) (2019.3)\nRequirement already satisfied: pyparsing!=2.0.4,!=2.1.2,!=2.1.6,>=2.0.1 in /home/fellipe/anaconda3/lib/python3.7/site-packages (from matplotlib==3.0.3->-r requirements.txt (line 4)) (2.4.2)\nRequirement already satisfied: kiwisolver>=1.0.1 in /home/fellipe/anaconda3/lib/python3.7/site-packages (from matplotlib==3.0.3->-r requirements.txt (line 4)) (1.1.0)\nRequirement already satisfied: cycler>=0.10 in /home/fellipe/anaconda3/lib/python3.7/site-packages (from matplotlib==3.0.3->-r requirements.txt (line 4)) (0.10.0)\nRequirement already satisfied: scipy>=0.14 in /home/fellipe/anaconda3/lib/python3.7/site-packages (from Keras==2.2.4->-r requirements.txt (line 5)) (1.3.1)\nRequirement already satisfied: pyyaml in /home/fellipe/anaconda3/lib/python3.7/site-packages (from Keras==2.2.4->-r requirements.txt (line 5)) (5.1.2)\nRequirement already satisfied: h5py in /home/fellipe/anaconda3/lib/python3.7/site-packages (from Keras==2.2.4->-r requirements.txt (line 5)) (2.9.0)\nRequirement already satisfied: scikit-learn in /home/fellipe/anaconda3/lib/python3.7/site-packages (from sklearn==0.0->-r requirements.txt (line 6)) (0.21.3)\nCollecting markdown>=2.6.8 (from tensorboard<1.14.0,>=1.13.0->tensorflow==1.13.1->-r requirements.txt (line 1))\n\u001b[?25l  Downloading https://files.pythonhosted.org/packages/c0/4e/fd492e91abdc2d2fcb70ef453064d980688762079397f779758e055f6575/Markdown-3.1.1-py2.py3-none-any.whl (87kB)\n\u001b[K     |████████████████████████████████| 92kB 13.6MB/s \n\u001b[?25hRequirement already satisfied: werkzeug>=0.11.15 in /home/fellipe/anaconda3/lib/python3.7/site-packages (from tensorboard<1.14.0,>=1.13.0->tensorflow==1.13.1->-r requirements.txt (line 1)) (0.16.0)\nRequirement already satisfied: mock>=2.0.0 in /home/fellipe/anaconda3/lib/python3.7/site-packages (from tensorflow-estimator<1.14.0rc0,>=1.13.0->tensorflow==1.13.1->-r requirements.txt (line 1)) (3.0.5)\nRequirement already satisfied: setuptools in /home/fellipe/anaconda3/lib/python3.7/site-packages (from protobuf>=3.6.1->tensorflow==1.13.1->-r requirements.txt (line 1)) (41.4.0)\nRequirement already satisfied: joblib>=0.11 in /home/fellipe/anaconda3/lib/python3.7/site-packages (from scikit-learn->sklearn==0.0->-r requirements.txt (line 6)) (0.13.2)\nBuilding wheels for collected packages: sklearn, gast, absl-py, termcolor\n  Building wheel for sklearn (setup.py) ... \u001b[?25ldone\n\u001b[?25h  Created wheel for sklearn: filename=sklearn-0.0-py2.py3-none-any.whl size=1316 sha256=f9fa1820c7f84f74703bae7a677dd06d11f7b19a181f62aacaebcb1031929b30\n  Stored in directory: /home/fellipe/snap/code/common/.cache/pip/wheels/76/03/bb/589d421d27431bcd2c6da284d5f2286c8e3b2ea3cf1594c074\n  Building wheel for gast (setup.py) ... \u001b[?25ldone\n\u001b[?25h  Created wheel for gast: filename=gast-0.3.2-cp37-none-any.whl size=9678 sha256=27ac3bace7a4726a2e535f8752751f57924e930d6708f6646b98dbb4633c91fa\n  Stored in directory: /home/fellipe/snap/code/common/.cache/pip/wheels/59/38/c6/234dc39b4f6951a0768fbc02d5b7207137a5b1d9094f0d54bf\n  Building wheel for absl-py (setup.py) ... \u001b[?25ldone\n\u001b[?25h  Created wheel for absl-py: filename=absl_py-0.8.1-cp37-none-any.whl size=121167 sha256=ac163af2fb805be6c0b6f0a5c5a4ec5c46636f317b179b7ca064021934392a28\n  Stored in directory: /home/fellipe/snap/code/common/.cache/pip/wheels/a7/15/a0/0a0561549ad11cdc1bc8fa1191a353efd30facf6bfb507aefc\n  Building wheel for termcolor (setup.py) ... \u001b[?25ldone\n\u001b[?25h  Created wheel for termcolor: filename=termcolor-1.1.0-cp37-none-any.whl size=4832 sha256=903386c7bd99e1623866f019e576a8c47d907fe2c636841c116943e483c4afe8\n  Stored in directory: /home/fellipe/snap/code/common/.cache/pip/wheels/7c/06/54/bc84598ba1daf8f970247f550b175aaaee85f68b4b0c5ab2c6\nSuccessfully built sklearn gast absl-py termcolor\nInstalling collected packages: markdown, grpcio, absl-py, numpy, protobuf, tensorboard, tensorflow-estimator, keras-preprocessing, astor, keras-applications, gast, termcolor, tensorflow, pandas, matplotlib, Keras, sklearn\n  Found existing installation: numpy 1.17.2\n    Uninstalling numpy-1.17.2:\n      Successfully uninstalled numpy-1.17.2\n  Found existing installation: pandas 0.25.1\n    Uninstalling pandas-0.25.1:\n      Successfully uninstalled pandas-0.25.1\n  Found existing installation: matplotlib 3.1.1\n    Uninstalling matplotlib-3.1.1:\n      Successfully uninstalled matplotlib-3.1.1\nSuccessfully installed Keras-2.2.4 absl-py-0.8.1 astor-0.8.0 gast-0.3.2 grpcio-1.25.0 keras-applications-1.0.8 keras-preprocessing-1.1.0 markdown-3.1.1 matplotlib-3.0.3 numpy-1.16.2 pandas-0.24.2 protobuf-3.10.0 sklearn-0.0 tensorboard-1.13.1 tensorflow-1.13.1 tensorflow-estimator-1.13.0 termcolor-1.1.0\nNote: you may need to restart the kernel to use updated packages.\n"
    }
   ],
   "source": [
    "pip install -r requirements.txt"
   ]
  },
  {
   "cell_type": "code",
   "execution_count": 2,
   "metadata": {},
   "outputs": [],
   "source": [
    "\n",
    "# Artificial Neural Network\n",
    "\n",
    "# Installing Theano\n",
    "# pip install --upgrade --no-deps git+git://github.com/Theano/Theano.git\n",
    "\n",
    "# Installing Tensorflow\n",
    "# pip install tensorflow\n",
    "\n",
    "# Installing Keras\n",
    "# pip install --upgrade keras\n",
    "\n",
    "# Part 1 - Data Preprocessing\n",
    "\n",
    "# Importing the libraries\n",
    "import numpy as np\n",
    "import matplotlib.pyplot as plt\n",
    "import pandas as pd\n",
    "\n",
    "# Importing the dataset\n",
    "dataset = pd.read_csv('Churn_Modelling.csv')\n",
    "X = dataset.iloc[:, 3:13].values\n",
    "y = dataset.iloc[:, 13].values"
   ]
  },
  {
   "cell_type": "code",
   "execution_count": 3,
   "metadata": {},
   "outputs": [
    {
     "name": "stderr",
     "output_type": "stream",
     "text": "/home/fellipe/anaconda3/lib/python3.7/site-packages/sklearn/preprocessing/_encoders.py:415: FutureWarning: The handling of integer data will change in version 0.22. Currently, the categories are determined based on the range [0, max(values)], while in the future they will be determined based on the unique values.\nIf you want the future behaviour and silence this warning, you can specify \"categories='auto'\".\nIn case you used a LabelEncoder before this OneHotEncoder to convert the categories to integers, then you can now use the OneHotEncoder directly.\n  warnings.warn(msg, FutureWarning)\n/home/fellipe/anaconda3/lib/python3.7/site-packages/sklearn/preprocessing/_encoders.py:451: DeprecationWarning: The 'categorical_features' keyword is deprecated in version 0.20 and will be removed in 0.22. You can use the ColumnTransformer instead.\n  \"use the ColumnTransformer instead.\", DeprecationWarning)\n"
    }
   ],
   "source": [
    "\n",
    "# Encoding categorical data\n",
    "from sklearn.preprocessing import LabelEncoder, OneHotEncoder\n",
    "labelencoder_X_1 = LabelEncoder()\n",
    "X[:, 1] = labelencoder_X_1.fit_transform(X[:, 1])\n",
    "labelencoder_X_2 = LabelEncoder()\n",
    "X[:, 2] = labelencoder_X_2.fit_transform(X[:, 2])\n",
    "onehotencoder = OneHotEncoder(categorical_features = [1])\n",
    "X = onehotencoder.fit_transform(X).toarray()\n",
    "X = X[:, 1:]\n",
    "\n",
    "# Splitting the dataset into the Training set and Test set\n",
    "from sklearn.model_selection import train_test_split\n",
    "X_train, X_test, y_train, y_test = train_test_split(X, y, test_size = 0.2, random_state = 0)\n",
    "\n",
    "# Feature Scaling\n",
    "from sklearn.preprocessing import StandardScaler\n",
    "sc = StandardScaler()\n",
    "X_train = sc.fit_transform(X_train)\n",
    "X_test = sc.transform(X_test)"
   ]
  },
  {
   "cell_type": "code",
   "execution_count": 4,
   "metadata": {},
   "outputs": [
    {
     "name": "stderr",
     "output_type": "stream",
     "text": "Using TensorFlow backend.\n/home/fellipe/anaconda3/lib/python3.7/site-packages/tensorflow/python/framework/dtypes.py:526: FutureWarning: Passing (type, 1) or '1type' as a synonym of type is deprecated; in a future version of numpy, it will be understood as (type, (1,)) / '(1,)type'.\n  _np_qint8 = np.dtype([(\"qint8\", np.int8, 1)])\n/home/fellipe/anaconda3/lib/python3.7/site-packages/tensorflow/python/framework/dtypes.py:527: FutureWarning: Passing (type, 1) or '1type' as a synonym of type is deprecated; in a future version of numpy, it will be understood as (type, (1,)) / '(1,)type'.\n  _np_quint8 = np.dtype([(\"quint8\", np.uint8, 1)])\n/home/fellipe/anaconda3/lib/python3.7/site-packages/tensorflow/python/framework/dtypes.py:528: FutureWarning: Passing (type, 1) or '1type' as a synonym of type is deprecated; in a future version of numpy, it will be understood as (type, (1,)) / '(1,)type'.\n  _np_qint16 = np.dtype([(\"qint16\", np.int16, 1)])\n/home/fellipe/anaconda3/lib/python3.7/site-packages/tensorflow/python/framework/dtypes.py:529: FutureWarning: Passing (type, 1) or '1type' as a synonym of type is deprecated; in a future version of numpy, it will be understood as (type, (1,)) / '(1,)type'.\n  _np_quint16 = np.dtype([(\"quint16\", np.uint16, 1)])\n/home/fellipe/anaconda3/lib/python3.7/site-packages/tensorflow/python/framework/dtypes.py:530: FutureWarning: Passing (type, 1) or '1type' as a synonym of type is deprecated; in a future version of numpy, it will be understood as (type, (1,)) / '(1,)type'.\n  _np_qint32 = np.dtype([(\"qint32\", np.int32, 1)])\n/home/fellipe/anaconda3/lib/python3.7/site-packages/tensorflow/python/framework/dtypes.py:535: FutureWarning: Passing (type, 1) or '1type' as a synonym of type is deprecated; in a future version of numpy, it will be understood as (type, (1,)) / '(1,)type'.\n  np_resource = np.dtype([(\"resource\", np.ubyte, 1)])\nWARNING:tensorflow:From /home/fellipe/anaconda3/lib/python3.7/site-packages/tensorflow/python/framework/op_def_library.py:263: colocate_with (from tensorflow.python.framework.ops) is deprecated and will be removed in a future version.\nInstructions for updating:\nColocations handled automatically by placer.\nWARNING:tensorflow:From /home/fellipe/anaconda3/lib/python3.7/site-packages/tensorflow/python/ops/math_ops.py:3066: to_int32 (from tensorflow.python.ops.math_ops) is deprecated and will be removed in a future version.\nInstructions for updating:\nUse tf.cast instead.\nEpoch 1/100\n8000/8000 [==============================] - 1s 99us/step - loss: 0.5564 - acc: 0.8001\nEpoch 2/100\n8000/8000 [==============================] - 1s 72us/step - loss: 0.4111 - acc: 0.8090\nEpoch 3/100\n8000/8000 [==============================] - 1s 87us/step - loss: 0.4014 - acc: 0.8126\nEpoch 4/100\n8000/8000 [==============================] - 1s 80us/step - loss: 0.3949 - acc: 0.8165\nEpoch 5/100\n8000/8000 [==============================] - 1s 79us/step - loss: 0.3894 - acc: 0.8207\nEpoch 6/100\n8000/8000 [==============================] - 1s 74us/step - loss: 0.3857 - acc: 0.8282\nEpoch 7/100\n8000/8000 [==============================] - 1s 80us/step - loss: 0.3829 - acc: 0.8287\nEpoch 8/100\n8000/8000 [==============================] - 1s 86us/step - loss: 0.3797 - acc: 0.8345\nEpoch 9/100\n8000/8000 [==============================] - 1s 79us/step - loss: 0.3761 - acc: 0.8382\nEpoch 10/100\n8000/8000 [==============================] - 1s 96us/step - loss: 0.3729 - acc: 0.8424\nEpoch 11/100\n8000/8000 [==============================] - 1s 107us/step - loss: 0.3683 - acc: 0.8457\nEpoch 12/100\n8000/8000 [==============================] - 1s 99us/step - loss: 0.3645 - acc: 0.8471\nEpoch 13/100\n8000/8000 [==============================] - 1s 129us/step - loss: 0.3619 - acc: 0.8502\nEpoch 14/100\n8000/8000 [==============================] - 1s 118us/step - loss: 0.3572 - acc: 0.8522\nEpoch 15/100\n8000/8000 [==============================] - 1s 152us/step - loss: 0.3535 - acc: 0.8534\nEpoch 16/100\n8000/8000 [==============================] - 2s 210us/step - loss: 0.3519 - acc: 0.8536\nEpoch 17/100\n8000/8000 [==============================] - 1s 129us/step - loss: 0.3506 - acc: 0.8564\nEpoch 18/100\n8000/8000 [==============================] - 1s 110us/step - loss: 0.3486 - acc: 0.8546\nEpoch 19/100\n8000/8000 [==============================] - 1s 113us/step - loss: 0.3506 - acc: 0.8572\nEpoch 20/100\n8000/8000 [==============================] - 1s 108us/step - loss: 0.3461 - acc: 0.8564\nEpoch 21/100\n8000/8000 [==============================] - 1s 105us/step - loss: 0.3626 - acc: 0.8579\nEpoch 22/100\n8000/8000 [==============================] - 1s 105us/step - loss: 0.3578 - acc: 0.8587\nEpoch 23/100\n8000/8000 [==============================] - 1s 105us/step - loss: 0.3550 - acc: 0.8587\nEpoch 24/100\n8000/8000 [==============================] - 1s 108us/step - loss: 0.3521 - acc: 0.8580\nEpoch 25/100\n8000/8000 [==============================] - 1s 85us/step - loss: 0.3490 - acc: 0.8597\nEpoch 26/100\n8000/8000 [==============================] - 1s 85us/step - loss: 0.3450 - acc: 0.8601\nEpoch 27/100\n8000/8000 [==============================] - 1s 85us/step - loss: 0.3430 - acc: 0.8586\nEpoch 28/100\n8000/8000 [==============================] - 1s 80us/step - loss: 0.3421 - acc: 0.8579\nEpoch 29/100\n8000/8000 [==============================] - 1s 85us/step - loss: 0.3413 - acc: 0.8581\nEpoch 30/100\n8000/8000 [==============================] - 1s 85us/step - loss: 0.3414 - acc: 0.8581\nEpoch 31/100\n8000/8000 [==============================] - 1s 82us/step - loss: 0.3404 - acc: 0.8581\nEpoch 32/100\n8000/8000 [==============================] - 1s 89us/step - loss: 0.3408 - acc: 0.8575\nEpoch 33/100\n8000/8000 [==============================] - 1s 85us/step - loss: 0.3406 - acc: 0.8597\nEpoch 34/100\n8000/8000 [==============================] - 1s 81us/step - loss: 0.3399 - acc: 0.8594\nEpoch 35/100\n8000/8000 [==============================] - 1s 113us/step - loss: 0.3395 - acc: 0.8584\nEpoch 36/100\n8000/8000 [==============================] - 1s 168us/step - loss: 0.3406 - acc: 0.8600\nEpoch 37/100\n8000/8000 [==============================] - 1s 141us/step - loss: 0.3397 - acc: 0.8594\nEpoch 38/100\n8000/8000 [==============================] - 1s 131us/step - loss: 0.3383 - acc: 0.8604\nEpoch 39/100\n8000/8000 [==============================] - 1s 124us/step - loss: 0.3384 - acc: 0.8605\nEpoch 40/100\n8000/8000 [==============================] - 1s 105us/step - loss: 0.3419 - acc: 0.8631\nEpoch 41/100\n8000/8000 [==============================] - 1s 99us/step - loss: 0.3485 - acc: 0.8602\nEpoch 42/100\n8000/8000 [==============================] - 1s 100us/step - loss: 0.3452 - acc: 0.8617\nEpoch 43/100\n8000/8000 [==============================] - 1s 101us/step - loss: 0.3439 - acc: 0.8606\nEpoch 44/100\n8000/8000 [==============================] - 1s 91us/step - loss: 0.3422 - acc: 0.8616\nEpoch 45/100\n8000/8000 [==============================] - 1s 72us/step - loss: 0.3400 - acc: 0.8615\nEpoch 46/100\n8000/8000 [==============================] - 1s 68us/step - loss: 0.3390 - acc: 0.8625\nEpoch 47/100\n8000/8000 [==============================] - 1s 149us/step - loss: 0.3381 - acc: 0.8622\nEpoch 48/100\n8000/8000 [==============================] - 1s 150us/step - loss: 0.3370 - acc: 0.8621\nEpoch 49/100\n8000/8000 [==============================] - 1s 99us/step - loss: 0.3375 - acc: 0.8601\nEpoch 50/100\n8000/8000 [==============================] - 1s 98us/step - loss: 0.3368 - acc: 0.8627\nEpoch 51/100\n8000/8000 [==============================] - 1s 97us/step - loss: 0.3369 - acc: 0.8617\nEpoch 52/100\n8000/8000 [==============================] - 1s 96us/step - loss: 0.3368 - acc: 0.8617\nEpoch 53/100\n8000/8000 [==============================] - 1s 85us/step - loss: 0.3373 - acc: 0.8602\nEpoch 54/100\n8000/8000 [==============================] - 1s 153us/step - loss: 0.3368 - acc: 0.8620\nEpoch 55/100\n8000/8000 [==============================] - 1s 145us/step - loss: 0.3367 - acc: 0.8586\nEpoch 56/100\n8000/8000 [==============================] - 1s 78us/step - loss: 0.3372 - acc: 0.8602\nEpoch 57/100\n8000/8000 [==============================] - 1s 67us/step - loss: 0.3367 - acc: 0.8622\nEpoch 58/100\n8000/8000 [==============================] - 1s 92us/step - loss: 0.3360 - acc: 0.8617\nEpoch 59/100\n8000/8000 [==============================] - 1s 159us/step - loss: 0.3409 - acc: 0.8597\nEpoch 60/100\n8000/8000 [==============================] - 1s 116us/step - loss: 0.3395 - acc: 0.8617\nEpoch 61/100\n8000/8000 [==============================] - 1s 85us/step - loss: 0.3361 - acc: 0.8606\nEpoch 62/100\n8000/8000 [==============================] - 1s 87us/step - loss: 0.3359 - acc: 0.8610\nEpoch 63/100\n8000/8000 [==============================] - 1s 88us/step - loss: 0.3358 - acc: 0.8622\nEpoch 64/100\n8000/8000 [==============================] - 1s 88us/step - loss: 0.3356 - acc: 0.8637\nEpoch 65/100\n8000/8000 [==============================] - 1s 83us/step - loss: 0.3356 - acc: 0.8617\nEpoch 66/100\n8000/8000 [==============================] - 1s 84us/step - loss: 0.3355 - acc: 0.8616\nEpoch 67/100\n8000/8000 [==============================] - 1s 84us/step - loss: 0.3390 - acc: 0.8640\nEpoch 68/100\n8000/8000 [==============================] - 1s 76us/step - loss: 0.3398 - acc: 0.8624\nEpoch 69/100\n8000/8000 [==============================] - 1s 134us/step - loss: 0.3371 - acc: 0.8611\nEpoch 70/100\n8000/8000 [==============================] - 1s 154us/step - loss: 0.3353 - acc: 0.8621\nEpoch 71/100\n8000/8000 [==============================] - 1s 85us/step - loss: 0.3344 - acc: 0.8619\nEpoch 72/100\n8000/8000 [==============================] - 1s 81us/step - loss: 0.3361 - acc: 0.8650\nEpoch 73/100\n8000/8000 [==============================] - 1s 87us/step - loss: 0.3350 - acc: 0.8632\nEpoch 74/100\n8000/8000 [==============================] - 1s 151us/step - loss: 0.3353 - acc: 0.8614\nEpoch 75/100\n8000/8000 [==============================] - 1s 125us/step - loss: 0.3371 - acc: 0.8617\nEpoch 76/100\n8000/8000 [==============================] - 1s 96us/step - loss: 0.3360 - acc: 0.8616\nEpoch 77/100\n8000/8000 [==============================] - 1s 76us/step - loss: 0.3352 - acc: 0.8629\nEpoch 78/100\n8000/8000 [==============================] - 1s 101us/step - loss: 0.3355 - acc: 0.8632\nEpoch 79/100\n8000/8000 [==============================] - 1s 157us/step - loss: 0.3365 - acc: 0.8625\nEpoch 80/100\n8000/8000 [==============================] - 1s 107us/step - loss: 0.3352 - acc: 0.8621\nEpoch 81/100\n8000/8000 [==============================] - 1s 69us/step - loss: 0.3350 - acc: 0.8621\nEpoch 82/100\n8000/8000 [==============================] - 1s 81us/step - loss: 0.3356 - acc: 0.8620\nEpoch 83/100\n8000/8000 [==============================] - 1s 128us/step - loss: 0.3374 - acc: 0.8615\nEpoch 84/100\n8000/8000 [==============================] - 1s 156us/step - loss: 0.3344 - acc: 0.8619\nEpoch 85/100\n8000/8000 [==============================] - 1s 72us/step - loss: 0.3338 - acc: 0.8629\nEpoch 86/100\n8000/8000 [==============================] - 1s 85us/step - loss: 0.3398 - acc: 0.8609\nEpoch 87/100\n8000/8000 [==============================] - 1s 90us/step - loss: 0.3353 - acc: 0.8619\nEpoch 88/100\n8000/8000 [==============================] - 1s 156us/step - loss: 0.3342 - acc: 0.8625\nEpoch 89/100\n8000/8000 [==============================] - 1s 135us/step - loss: 0.3353 - acc: 0.8617\nEpoch 90/100\n8000/8000 [==============================] - 1s 75us/step - loss: 0.3343 - acc: 0.8625\nEpoch 91/100\n8000/8000 [==============================] - 1s 78us/step - loss: 0.3346 - acc: 0.8620\nEpoch 92/100\n8000/8000 [==============================] - 1s 96us/step - loss: 0.3342 - acc: 0.8607\nEpoch 93/100\n8000/8000 [==============================] - 1s 154us/step - loss: 0.3358 - acc: 0.8640\nEpoch 94/100\n8000/8000 [==============================] - 1s 111us/step - loss: 0.3391 - acc: 0.8640\nEpoch 95/100\n8000/8000 [==============================] - 1s 67us/step - loss: 0.3356 - acc: 0.8620\nEpoch 96/100\n8000/8000 [==============================] - 1s 65us/step - loss: 0.3411 - acc: 0.8620\nEpoch 97/100\n8000/8000 [==============================] - 1s 65us/step - loss: 0.3387 - acc: 0.8640\nEpoch 98/100\n8000/8000 [==============================] - 1s 138us/step - loss: 0.3380 - acc: 0.8632\nEpoch 99/100\n8000/8000 [==============================] - 1s 142us/step - loss: 0.3377 - acc: 0.8617\nEpoch 100/100\n8000/8000 [==============================] - 1s 69us/step - loss: 0.3359 - acc: 0.8615\n"
    },
    {
     "data": {
      "text/plain": "<keras.callbacks.History at 0x7f0497f81050>"
     },
     "execution_count": 4,
     "metadata": {},
     "output_type": "execute_result"
    }
   ],
   "source": [
    "# Part 2 - Now let's make the ANN!\n",
    "\n",
    "# Importing the Keras libraries and packages\n",
    "import keras\n",
    "from keras.models import Sequential\n",
    "from keras.layers import Dense\n",
    "\n",
    "# Initialising the ANN\n",
    "classifier = Sequential()\n",
    "\n",
    "# Adding the input layer and the first hidden layer\n",
    "classifier.add(Dense(units = 6, kernel_initializer = 'uniform', activation = 'relu', input_dim = 11))\n",
    "\n",
    "# Adding the second hidden layer\n",
    "classifier.add(Dense(units = 6, kernel_initializer = 'uniform', activation = 'relu'))\n",
    "\n",
    "# Adding the output layer\n",
    "classifier.add(Dense(units = 1, kernel_initializer = 'uniform', activation = 'tanh'))\n",
    "\n",
    "# Compiling the ANN\n",
    "classifier.compile(optimizer = 'adam', loss = 'binary_crossentropy', metrics = ['accuracy'])\n",
    "\n",
    "# Fitting the ANN to the Training set\n",
    "classifier.fit(X_train, y_train, batch_size = 10, epochs = 100)"
   ]
  },
  {
   "cell_type": "code",
   "execution_count": 5,
   "metadata": {},
   "outputs": [],
   "source": [
    "# Part 3 - Making predictions and evaluating the model\n",
    "\n",
    "# Predicting the Test set results\n",
    "y_pred = classifier.predict(X_test)\n",
    "y_pred = (y_pred > 0.5)\n",
    "\n",
    "# Making the Confusion Matrix\n",
    "from sklearn.metrics import confusion_matrix\n",
    "cm = confusion_matrix(y_test, y_pred)"
   ]
  },
  {
   "cell_type": "code",
   "execution_count": 6,
   "metadata": {},
   "outputs": [
    {
     "name": "stdout",
     "output_type": "stream",
     "text": "[[1510   85]\n [ 188  217]]\n"
    }
   ],
   "source": [
    "print(cm)"
   ]
  },
  {
   "cell_type": "code",
   "execution_count": null,
   "metadata": {},
   "outputs": [],
   "source": []
  }
 ]
}